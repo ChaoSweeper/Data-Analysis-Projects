{
 "cells": [
  {
   "cell_type": "code",
   "execution_count": 1,
   "source": [
    "import matplotlib.pyplot as plt\r\n",
    "import pandas as pd\r\n",
    "import numpy as np"
   ],
   "outputs": [],
   "metadata": {}
  },
  {
   "cell_type": "code",
   "execution_count": 2,
   "source": [
    "df = pd.read_csv(\"../To Do/d2_guns.csv\")"
   ],
   "outputs": [],
   "metadata": {}
  },
  {
   "cell_type": "code",
   "execution_count": 3,
   "source": [
    "df.head()"
   ],
   "outputs": [
    {
     "output_type": "execute_result",
     "data": {
      "text/plain": [
       "         gun_name gun_archetype    Source element_type  gun_RoF     Rarity  \\\n",
       "0    Loud Lullaby    Aggressive      Moon      Kinetic      120  Legendary   \n",
       "1       Pribina-D    Aggressive  Gunsmith      Kinetic      120  Legendary   \n",
       "2   True Prophecy    Aggressive     World      Kinetic      120  Legendary   \n",
       "3  Igneous Hammer    Aggressive    Trials        Solar      120  Legendary   \n",
       "4   Bottom Dollar    Aggressive    Gambit         Void      120  Legendary   \n",
       "\n",
       "   weapon_type  \n",
       "0  hand_cannon  \n",
       "1  hand_cannon  \n",
       "2  hand_cannon  \n",
       "3  hand_cannon  \n",
       "4  hand_cannon  "
      ],
      "text/html": [
       "<div>\n",
       "<style scoped>\n",
       "    .dataframe tbody tr th:only-of-type {\n",
       "        vertical-align: middle;\n",
       "    }\n",
       "\n",
       "    .dataframe tbody tr th {\n",
       "        vertical-align: top;\n",
       "    }\n",
       "\n",
       "    .dataframe thead th {\n",
       "        text-align: right;\n",
       "    }\n",
       "</style>\n",
       "<table border=\"1\" class=\"dataframe\">\n",
       "  <thead>\n",
       "    <tr style=\"text-align: right;\">\n",
       "      <th></th>\n",
       "      <th>gun_name</th>\n",
       "      <th>gun_archetype</th>\n",
       "      <th>Source</th>\n",
       "      <th>element_type</th>\n",
       "      <th>gun_RoF</th>\n",
       "      <th>Rarity</th>\n",
       "      <th>weapon_type</th>\n",
       "    </tr>\n",
       "  </thead>\n",
       "  <tbody>\n",
       "    <tr>\n",
       "      <th>0</th>\n",
       "      <td>Loud Lullaby</td>\n",
       "      <td>Aggressive</td>\n",
       "      <td>Moon</td>\n",
       "      <td>Kinetic</td>\n",
       "      <td>120</td>\n",
       "      <td>Legendary</td>\n",
       "      <td>hand_cannon</td>\n",
       "    </tr>\n",
       "    <tr>\n",
       "      <th>1</th>\n",
       "      <td>Pribina-D</td>\n",
       "      <td>Aggressive</td>\n",
       "      <td>Gunsmith</td>\n",
       "      <td>Kinetic</td>\n",
       "      <td>120</td>\n",
       "      <td>Legendary</td>\n",
       "      <td>hand_cannon</td>\n",
       "    </tr>\n",
       "    <tr>\n",
       "      <th>2</th>\n",
       "      <td>True Prophecy</td>\n",
       "      <td>Aggressive</td>\n",
       "      <td>World</td>\n",
       "      <td>Kinetic</td>\n",
       "      <td>120</td>\n",
       "      <td>Legendary</td>\n",
       "      <td>hand_cannon</td>\n",
       "    </tr>\n",
       "    <tr>\n",
       "      <th>3</th>\n",
       "      <td>Igneous Hammer</td>\n",
       "      <td>Aggressive</td>\n",
       "      <td>Trials</td>\n",
       "      <td>Solar</td>\n",
       "      <td>120</td>\n",
       "      <td>Legendary</td>\n",
       "      <td>hand_cannon</td>\n",
       "    </tr>\n",
       "    <tr>\n",
       "      <th>4</th>\n",
       "      <td>Bottom Dollar</td>\n",
       "      <td>Aggressive</td>\n",
       "      <td>Gambit</td>\n",
       "      <td>Void</td>\n",
       "      <td>120</td>\n",
       "      <td>Legendary</td>\n",
       "      <td>hand_cannon</td>\n",
       "    </tr>\n",
       "  </tbody>\n",
       "</table>\n",
       "</div>"
      ]
     },
     "metadata": {},
     "execution_count": 3
    }
   ],
   "metadata": {}
  },
  {
   "cell_type": "code",
   "execution_count": 4,
   "source": [
    "df.info()"
   ],
   "outputs": [
    {
     "output_type": "stream",
     "name": "stdout",
     "text": [
      "<class 'pandas.core.frame.DataFrame'>\n",
      "RangeIndex: 409 entries, 0 to 408\n",
      "Data columns (total 7 columns):\n",
      " #   Column         Non-Null Count  Dtype \n",
      "---  ------         --------------  ----- \n",
      " 0   gun_name       409 non-null    object\n",
      " 1   gun_archetype  409 non-null    object\n",
      " 2   Source         409 non-null    object\n",
      " 3   element_type   409 non-null    object\n",
      " 4   gun_RoF        409 non-null    int64 \n",
      " 5   Rarity         409 non-null    object\n",
      " 6   weapon_type    409 non-null    object\n",
      "dtypes: int64(1), object(6)\n",
      "memory usage: 22.5+ KB\n"
     ]
    }
   ],
   "metadata": {}
  },
  {
   "cell_type": "code",
   "execution_count": 5,
   "source": [
    "wt = df[\"weapon_type\"].unique().tolist()\r\n",
    "print(wt)"
   ],
   "outputs": [
    {
     "output_type": "stream",
     "name": "stdout",
     "text": [
      "['hand_cannon', 'pulse_rifle', 'auto_rifle', 'scout_rifle', 'smg', 'sidearm', 'bow', 'fusion_rifle', 'grenade_launcher', 'lfr', 'machine_gun', 'shotgun', 'sniper', 'rocket_launcher', 'sword', 'trace_rifle']\n"
     ]
    }
   ],
   "metadata": {}
  },
  {
   "cell_type": "code",
   "execution_count": 6,
   "source": [
    "wtp = df[\"weapon_type\"].value_counts()\r\n",
    "wtp.plot.bar()"
   ],
   "outputs": [
    {
     "output_type": "execute_result",
     "data": {
      "text/plain": [
       "<AxesSubplot:>"
      ]
     },
     "metadata": {},
     "execution_count": 6
    },
    {
     "output_type": "display_data",
     "data": {
      "text/plain": [
       "<Figure size 432x288 with 1 Axes>"
      ],
      "image/png": "[encoded data removed]"
     },
     "metadata": {
      "needs_background": "light"
     }
    }
   ],
   "metadata": {}
  },
  {
   "cell_type": "code",
   "execution_count": 7,
   "source": [
    "et = df[\"element_type\"].unique().tolist()\r\n",
    "print(et)"
   ],
   "outputs": [
    {
     "output_type": "stream",
     "name": "stdout",
     "text": [
      "['Kinetic', 'Solar', 'Void', 'Arc', 'ALL', 'Stasis', 'Void/Solar']\n"
     ]
    }
   ],
   "metadata": {}
  },
  {
   "cell_type": "code",
   "execution_count": 8,
   "source": [
    "etp = df[\"element_type\"].value_counts()\r\n",
    "etp.plot.bar()"
   ],
   "outputs": [
    {
     "output_type": "execute_result",
     "data": {
      "text/plain": [
       "<AxesSubplot:>"
      ]
     },
     "metadata": {},
     "execution_count": 8
    },
    {
     "output_type": "display_data",
     "data": {
      "text/plain": [
       "<Figure size 432x288 with 1 Axes>"
      ],
      "image/png": "[encoded data removed]"
     },
     "metadata": {
      "needs_background": "light"
     }
    }
   ],
   "metadata": {}
  },
  {
   "cell_type": "code",
   "execution_count": 9,
   "source": [
    "#x = np.arange(len(wt))\r\n",
    "#width = 0.3\r\n",
    "\r\n",
    "#fig, ax = plt.subplots()\r\n",
    "#rects1 = ax.bar(x - width/2, wtp, width, label='Weapon Type')\r\n",
    "#rects2 = ax.bar(x + width/2, etp, width, label='Element Type')\r\n",
    "\r\n",
    "#ax.set_ylabel('Weapon Count')\r\n",
    "#ax.set_title('Weapons Type and Elements')\r\n",
    "#ax.set_xticks(x)\r\n",
    "#ax.set_xticklabels(wt)\r\n",
    "#ax.legend()\r\n",
    "\r\n",
    "#ax.bar_label(rects1, padding=3)\r\n",
    "#ax.bar_label(rects2, padding=3)\r\n",
    "\r\n",
    "#fig.tight_layout()\r\n",
    "\r\n",
    "#plt.show()"
   ],
   "outputs": [],
   "metadata": {}
  },
  {
   "cell_type": "code",
   "execution_count": null,
   "source": [],
   "outputs": [],
   "metadata": {}
  },
  {
   "cell_type": "code",
   "execution_count": null,
   "source": [],
   "outputs": [],
   "metadata": {}
  }
 ],
 "metadata": {
  "kernelspec": {
   "name": "python3",
   "display_name": "Python 3.7.11 64-bit ('VSCode_env': conda)"
  },
  "language_info": {
   "name": "python",
   "version": "3.8.8",
   "mimetype": "text/x-python",
   "codemirror_mode": {
    "name": "ipython",
    "version": 3
   },
   "pygments_lexer": "ipython3",
   "nbconvert_exporter": "python",
   "file_extension": ".py"
  },
  "interpreter": {
   "hash": "d2885c27dfbe0f06ff7cacf21236608869eeb9871d66bb9e308c95c2f47a444c"
  }
 },
 "nbformat": 4,
 "nbformat_minor": 5
}