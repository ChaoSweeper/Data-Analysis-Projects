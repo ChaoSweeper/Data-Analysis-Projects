{
    "cells": [
        {
            "cell_type": "code",
            "execution_count": 1,
            "source": [
                "import pandas as pd\r\n",
                "import numpy as np\r\n",
                "import matplotlib.pyplot as plt\r\n",
                "import seaborn as sns\r\n",
                "\r\n",
                "%matplotlib inline"
            ],
            "outputs": [],
            "metadata": {}
        },
        {
            "cell_type": "code",
            "execution_count": 2,
            "source": [
                "sns.set_style('darkgrid')\r\n",
                "plt.rcParams['font.size'] = 14\r\n",
                "plt.rcParams['figure.figsize'] = (20, 5)\r\n",
                "plt.rcParams['figure.facecolor'] = '#00000000'"
            ],
            "outputs": [],
            "metadata": {}
        },
        {
            "cell_type": "code",
            "execution_count": 3,
            "source": [
                "data = pd.read_csv('data.csv')\r\n",
                "data.head(5)"
            ],
            "outputs": [
                {
                    "output_type": "execute_result",
                    "data": {
                        "text/plain": [
                            "    Book Id                                              Title  \\\n",
                            "0  42423839  Hunting the Nazi Bomb: The Special Forces Miss...   \n",
                            "1  54860351                           Axiom's End (Noumena #1)   \n",
                            "2  55585159                                    Bound For Texas   \n",
                            "3  58555585  Captain Nemo: The Fantastic History of a Dark ...   \n",
                            "4  28449123              Red Right Hand (Michael Hendricks #2)   \n",
                            "\n",
                            "              Author          Author l-f Additional Authors           ISBN  \\\n",
                            "0       Damien Lewis       Lewis, Damien                NaN            =\"\"   \n",
                            "1     Lindsay  Ellis      Ellis, Lindsay                NaN  =\"1250798132\"   \n",
                            "2          Kit Prate          Prate, Kit                NaN            =\"\"   \n",
                            "3  Kevin J. Anderson  Anderson, Kevin J.                NaN            =\"\"   \n",
                            "4        Chris  Holm         Holm, Chris                NaN  =\"031625956X\"   \n",
                            "\n",
                            "             ISBN13  My Rating  Average Rating             Publisher  ...  \\\n",
                            "0               =\"\"          0            4.48       Open Road Media  ...   \n",
                            "1  =\"9781250798138\"          0            3.80  St. Martin's Griffin  ...   \n",
                            "2               =\"\"          0            4.14                   NaN  ...   \n",
                            "3               =\"\"          0            3.73       Audible Studios  ...   \n",
                            "4  =\"9780316259569\"          0            3.94      Mulholland Books  ...   \n",
                            "\n",
                            "  Private Notes  Read Count  Recommended For  Recommended By Owned Copies  \\\n",
                            "0           NaN           0              NaN             NaN            0   \n",
                            "1           NaN           0              NaN             NaN            0   \n",
                            "2           NaN           0              NaN             NaN            0   \n",
                            "3           NaN           0              NaN             NaN            0   \n",
                            "4           NaN           0              NaN             NaN            0   \n",
                            "\n",
                            "  Original Purchase Date Original Purchase Location Condition  \\\n",
                            "0                    NaN                        NaN       NaN   \n",
                            "1                    NaN                        NaN       NaN   \n",
                            "2                    NaN                        NaN       NaN   \n",
                            "3                    NaN                        NaN       NaN   \n",
                            "4                    NaN                        NaN       NaN   \n",
                            "\n",
                            "  Condition Description BCID  \n",
                            "0                   NaN  NaN  \n",
                            "1                   NaN  NaN  \n",
                            "2                   NaN  NaN  \n",
                            "3                   NaN  NaN  \n",
                            "4                   NaN  NaN  \n",
                            "\n",
                            "[5 rows x 31 columns]"
                        ],
                        "text/html": [
                            "<div>\n",
                            "<style scoped>\n",
                            "    .dataframe tbody tr th:only-of-type {\n",
                            "        vertical-align: middle;\n",
                            "    }\n",
                            "\n",
                            "    .dataframe tbody tr th {\n",
                            "        vertical-align: top;\n",
                            "    }\n",
                            "\n",
                            "    .dataframe thead th {\n",
                            "        text-align: right;\n",
                            "    }\n",
                            "</style>\n",
                            "<table border=\"1\" class=\"dataframe\">\n",
                            "  <thead>\n",
                            "    <tr style=\"text-align: right;\">\n",
                            "      <th></th>\n",
                            "      <th>Book Id</th>\n",
                            "      <th>Title</th>\n",
                            "      <th>Author</th>\n",
                            "      <th>Author l-f</th>\n",
                            "      <th>Additional Authors</th>\n",
                            "      <th>ISBN</th>\n",
                            "      <th>ISBN13</th>\n",
                            "      <th>My Rating</th>\n",
                            "      <th>Average Rating</th>\n",
                            "      <th>Publisher</th>\n",
                            "      <th>...</th>\n",
                            "      <th>Private Notes</th>\n",
                            "      <th>Read Count</th>\n",
                            "      <th>Recommended For</th>\n",
                            "      <th>Recommended By</th>\n",
                            "      <th>Owned Copies</th>\n",
                            "      <th>Original Purchase Date</th>\n",
                            "      <th>Original Purchase Location</th>\n",
                            "      <th>Condition</th>\n",
                            "      <th>Condition Description</th>\n",
                            "      <th>BCID</th>\n",
                            "    </tr>\n",
                            "  </thead>\n",
                            "  <tbody>\n",
                            "    <tr>\n",
                            "      <th>0</th>\n",
                            "      <td>42423839</td>\n",
                            "      <td>Hunting the Nazi Bomb: The Special Forces Miss...</td>\n",
                            "      <td>Damien Lewis</td>\n",
                            "      <td>Lewis, Damien</td>\n",
                            "      <td>NaN</td>\n",
                            "      <td>=\"\"</td>\n",
                            "      <td>=\"\"</td>\n",
                            "      <td>0</td>\n",
                            "      <td>4.48</td>\n",
                            "      <td>Open Road Media</td>\n",
                            "      <td>...</td>\n",
                            "      <td>NaN</td>\n",
                            "      <td>0</td>\n",
                            "      <td>NaN</td>\n",
                            "      <td>NaN</td>\n",
                            "      <td>0</td>\n",
                            "      <td>NaN</td>\n",
                            "      <td>NaN</td>\n",
                            "      <td>NaN</td>\n",
                            "      <td>NaN</td>\n",
                            "      <td>NaN</td>\n",
                            "    </tr>\n",
                            "    <tr>\n",
                            "      <th>1</th>\n",
                            "      <td>54860351</td>\n",
                            "      <td>Axiom's End (Noumena #1)</td>\n",
                            "      <td>Lindsay  Ellis</td>\n",
                            "      <td>Ellis, Lindsay</td>\n",
                            "      <td>NaN</td>\n",
                            "      <td>=\"1250798132\"</td>\n",
                            "      <td>=\"9781250798138\"</td>\n",
                            "      <td>0</td>\n",
                            "      <td>3.80</td>\n",
                            "      <td>St. Martin's Griffin</td>\n",
                            "      <td>...</td>\n",
                            "      <td>NaN</td>\n",
                            "      <td>0</td>\n",
                            "      <td>NaN</td>\n",
                            "      <td>NaN</td>\n",
                            "      <td>0</td>\n",
                            "      <td>NaN</td>\n",
                            "      <td>NaN</td>\n",
                            "      <td>NaN</td>\n",
                            "      <td>NaN</td>\n",
                            "      <td>NaN</td>\n",
                            "    </tr>\n",
                            "    <tr>\n",
                            "      <th>2</th>\n",
                            "      <td>55585159</td>\n",
                            "      <td>Bound For Texas</td>\n",
                            "      <td>Kit Prate</td>\n",
                            "      <td>Prate, Kit</td>\n",
                            "      <td>NaN</td>\n",
                            "      <td>=\"\"</td>\n",
                            "      <td>=\"\"</td>\n",
                            "      <td>0</td>\n",
                            "      <td>4.14</td>\n",
                            "      <td>NaN</td>\n",
                            "      <td>...</td>\n",
                            "      <td>NaN</td>\n",
                            "      <td>0</td>\n",
                            "      <td>NaN</td>\n",
                            "      <td>NaN</td>\n",
                            "      <td>0</td>\n",
                            "      <td>NaN</td>\n",
                            "      <td>NaN</td>\n",
                            "      <td>NaN</td>\n",
                            "      <td>NaN</td>\n",
                            "      <td>NaN</td>\n",
                            "    </tr>\n",
                            "    <tr>\n",
                            "      <th>3</th>\n",
                            "      <td>58555585</td>\n",
                            "      <td>Captain Nemo: The Fantastic History of a Dark ...</td>\n",
                            "      <td>Kevin J. Anderson</td>\n",
                            "      <td>Anderson, Kevin J.</td>\n",
                            "      <td>NaN</td>\n",
                            "      <td>=\"\"</td>\n",
                            "      <td>=\"\"</td>\n",
                            "      <td>0</td>\n",
                            "      <td>3.73</td>\n",
                            "      <td>Audible Studios</td>\n",
                            "      <td>...</td>\n",
                            "      <td>NaN</td>\n",
                            "      <td>0</td>\n",
                            "      <td>NaN</td>\n",
                            "      <td>NaN</td>\n",
                            "      <td>0</td>\n",
                            "      <td>NaN</td>\n",
                            "      <td>NaN</td>\n",
                            "      <td>NaN</td>\n",
                            "      <td>NaN</td>\n",
                            "      <td>NaN</td>\n",
                            "    </tr>\n",
                            "    <tr>\n",
                            "      <th>4</th>\n",
                            "      <td>28449123</td>\n",
                            "      <td>Red Right Hand (Michael Hendricks #2)</td>\n",
                            "      <td>Chris  Holm</td>\n",
                            "      <td>Holm, Chris</td>\n",
                            "      <td>NaN</td>\n",
                            "      <td>=\"031625956X\"</td>\n",
                            "      <td>=\"9780316259569\"</td>\n",
                            "      <td>0</td>\n",
                            "      <td>3.94</td>\n",
                            "      <td>Mulholland Books</td>\n",
                            "      <td>...</td>\n",
                            "      <td>NaN</td>\n",
                            "      <td>0</td>\n",
                            "      <td>NaN</td>\n",
                            "      <td>NaN</td>\n",
                            "      <td>0</td>\n",
                            "      <td>NaN</td>\n",
                            "      <td>NaN</td>\n",
                            "      <td>NaN</td>\n",
                            "      <td>NaN</td>\n",
                            "      <td>NaN</td>\n",
                            "    </tr>\n",
                            "  </tbody>\n",
                            "</table>\n",
                            "<p>5 rows × 31 columns</p>\n",
                            "</div>"
                        ]
                    },
                    "metadata": {},
                    "execution_count": 3
                }
            ],
            "metadata": {}
        },
        {
            "cell_type": "code",
            "execution_count": 4,
            "source": [
                "data.info()"
            ],
            "outputs": [
                {
                    "output_type": "stream",
                    "name": "stdout",
                    "text": [
                        "<class 'pandas.core.frame.DataFrame'>\n",
                        "RangeIndex: 6379 entries, 0 to 6378\n",
                        "Data columns (total 31 columns):\n",
                        " #   Column                      Non-Null Count  Dtype  \n",
                        "---  ------                      --------------  -----  \n",
                        " 0   Book Id                     6379 non-null   int64  \n",
                        " 1   Title                       6379 non-null   object \n",
                        " 2   Author                      6379 non-null   object \n",
                        " 3   Author l-f                  6379 non-null   object \n",
                        " 4   Additional Authors          1209 non-null   object \n",
                        " 5   ISBN                        6379 non-null   object \n",
                        " 6   ISBN13                      6379 non-null   object \n",
                        " 7   My Rating                   6379 non-null   int64  \n",
                        " 8   Average Rating              6379 non-null   float64\n",
                        " 9   Publisher                   6174 non-null   object \n",
                        " 10  Binding                     6343 non-null   object \n",
                        " 11  Number of Pages             6175 non-null   float64\n",
                        " 12  Year Published              6288 non-null   float64\n",
                        " 13  Original Publication Year   6159 non-null   float64\n",
                        " 14  Date Read                   392 non-null    object \n",
                        " 15  Date Added                  6379 non-null   object \n",
                        " 16  Bookshelves                 4160 non-null   object \n",
                        " 17  Bookshelves with positions  4160 non-null   object \n",
                        " 18  Exclusive Shelf             6379 non-null   object \n",
                        " 19  My Review                   8 non-null      object \n",
                        " 20  Spoiler                     0 non-null      float64\n",
                        " 21  Private Notes               0 non-null      float64\n",
                        " 22  Read Count                  6379 non-null   int64  \n",
                        " 23  Recommended For             0 non-null      float64\n",
                        " 24  Recommended By              0 non-null      float64\n",
                        " 25  Owned Copies                6379 non-null   int64  \n",
                        " 26  Original Purchase Date      0 non-null      float64\n",
                        " 27  Original Purchase Location  0 non-null      float64\n",
                        " 28  Condition                   0 non-null      float64\n",
                        " 29  Condition Description       0 non-null      float64\n",
                        " 30  BCID                        0 non-null      float64\n",
                        "dtypes: float64(13), int64(4), object(14)\n",
                        "memory usage: 1.5+ MB\n"
                    ]
                }
            ],
            "metadata": {}
        },
        {
            "cell_type": "code",
            "execution_count": 5,
            "source": [
                "pd.isna(data).sum()"
            ],
            "outputs": [
                {
                    "output_type": "execute_result",
                    "data": {
                        "text/plain": [
                            "Book Id                          0\n",
                            "Title                            0\n",
                            "Author                           0\n",
                            "Author l-f                       0\n",
                            "Additional Authors            5170\n",
                            "ISBN                             0\n",
                            "ISBN13                           0\n",
                            "My Rating                        0\n",
                            "Average Rating                   0\n",
                            "Publisher                      205\n",
                            "Binding                         36\n",
                            "Number of Pages                204\n",
                            "Year Published                  91\n",
                            "Original Publication Year      220\n",
                            "Date Read                     5987\n",
                            "Date Added                       0\n",
                            "Bookshelves                   2219\n",
                            "Bookshelves with positions    2219\n",
                            "Exclusive Shelf                  0\n",
                            "My Review                     6371\n",
                            "Spoiler                       6379\n",
                            "Private Notes                 6379\n",
                            "Read Count                       0\n",
                            "Recommended For               6379\n",
                            "Recommended By                6379\n",
                            "Owned Copies                     0\n",
                            "Original Purchase Date        6379\n",
                            "Original Purchase Location    6379\n",
                            "Condition                     6379\n",
                            "Condition Description         6379\n",
                            "BCID                          6379\n",
                            "dtype: int64"
                        ]
                    },
                    "metadata": {},
                    "execution_count": 5
                }
            ],
            "metadata": {}
        },
        {
            "cell_type": "code",
            "execution_count": 6,
            "source": [
                "data1 = data.copy()\r\n",
                "data1 = data1.drop(data1.columns[[0,3,4,5,6, 9, 10, 16, 17, 18, 19, 20, 21, 22, 23, 24, 25, 26, 27, 28, 29, 30]], axis=1)\r\n",
                "\r\n",
                "data1.fillna(0)\r\n",
                "data1 = data1.astype({'My Rating': np.float64} )"
            ],
            "outputs": [],
            "metadata": {}
        },
        {
            "cell_type": "code",
            "execution_count": 7,
            "source": [
                "data1.info()"
            ],
            "outputs": [
                {
                    "output_type": "stream",
                    "name": "stdout",
                    "text": [
                        "<class 'pandas.core.frame.DataFrame'>\n",
                        "RangeIndex: 6379 entries, 0 to 6378\n",
                        "Data columns (total 9 columns):\n",
                        " #   Column                     Non-Null Count  Dtype  \n",
                        "---  ------                     --------------  -----  \n",
                        " 0   Title                      6379 non-null   object \n",
                        " 1   Author                     6379 non-null   object \n",
                        " 2   My Rating                  6379 non-null   float64\n",
                        " 3   Average Rating             6379 non-null   float64\n",
                        " 4   Number of Pages            6175 non-null   float64\n",
                        " 5   Year Published             6288 non-null   float64\n",
                        " 6   Original Publication Year  6159 non-null   float64\n",
                        " 7   Date Read                  392 non-null    object \n",
                        " 8   Date Added                 6379 non-null   object \n",
                        "dtypes: float64(5), object(4)\n",
                        "memory usage: 448.6+ KB\n"
                    ]
                }
            ],
            "metadata": {}
        },
        {
            "cell_type": "code",
            "execution_count": 8,
            "source": [
                "data1.corr().abs()[['My Rating']]"
            ],
            "outputs": [
                {
                    "output_type": "execute_result",
                    "data": {
                        "text/plain": [
                            "                           My Rating\n",
                            "My Rating                   1.000000\n",
                            "Average Rating              0.100958\n",
                            "Number of Pages             0.084042\n",
                            "Year Published              0.138556\n",
                            "Original Publication Year   0.092948"
                        ],
                        "text/html": [
                            "<div>\n",
                            "<style scoped>\n",
                            "    .dataframe tbody tr th:only-of-type {\n",
                            "        vertical-align: middle;\n",
                            "    }\n",
                            "\n",
                            "    .dataframe tbody tr th {\n",
                            "        vertical-align: top;\n",
                            "    }\n",
                            "\n",
                            "    .dataframe thead th {\n",
                            "        text-align: right;\n",
                            "    }\n",
                            "</style>\n",
                            "<table border=\"1\" class=\"dataframe\">\n",
                            "  <thead>\n",
                            "    <tr style=\"text-align: right;\">\n",
                            "      <th></th>\n",
                            "      <th>My Rating</th>\n",
                            "    </tr>\n",
                            "  </thead>\n",
                            "  <tbody>\n",
                            "    <tr>\n",
                            "      <th>My Rating</th>\n",
                            "      <td>1.000000</td>\n",
                            "    </tr>\n",
                            "    <tr>\n",
                            "      <th>Average Rating</th>\n",
                            "      <td>0.100958</td>\n",
                            "    </tr>\n",
                            "    <tr>\n",
                            "      <th>Number of Pages</th>\n",
                            "      <td>0.084042</td>\n",
                            "    </tr>\n",
                            "    <tr>\n",
                            "      <th>Year Published</th>\n",
                            "      <td>0.138556</td>\n",
                            "    </tr>\n",
                            "    <tr>\n",
                            "      <th>Original Publication Year</th>\n",
                            "      <td>0.092948</td>\n",
                            "    </tr>\n",
                            "  </tbody>\n",
                            "</table>\n",
                            "</div>"
                        ]
                    },
                    "metadata": {},
                    "execution_count": 8
                }
            ],
            "metadata": {}
        },
        {
            "cell_type": "code",
            "execution_count": 9,
            "source": [
                "data1['Rating_Pages'] =  data1.apply(lambda row: int((row['My Rating'] + row['Number of Pages'])> 0), axis=1)\r\n",
                "data1.corr().abs()[['My Rating']]"
            ],
            "outputs": [
                {
                    "output_type": "execute_result",
                    "data": {
                        "text/plain": [
                            "                           My Rating\n",
                            "My Rating                   1.000000\n",
                            "Average Rating              0.100958\n",
                            "Number of Pages             0.084042\n",
                            "Year Published              0.138556\n",
                            "Original Publication Year   0.092948\n",
                            "Rating_Pages                0.052498"
                        ],
                        "text/html": [
                            "<div>\n",
                            "<style scoped>\n",
                            "    .dataframe tbody tr th:only-of-type {\n",
                            "        vertical-align: middle;\n",
                            "    }\n",
                            "\n",
                            "    .dataframe tbody tr th {\n",
                            "        vertical-align: top;\n",
                            "    }\n",
                            "\n",
                            "    .dataframe thead th {\n",
                            "        text-align: right;\n",
                            "    }\n",
                            "</style>\n",
                            "<table border=\"1\" class=\"dataframe\">\n",
                            "  <thead>\n",
                            "    <tr style=\"text-align: right;\">\n",
                            "      <th></th>\n",
                            "      <th>My Rating</th>\n",
                            "    </tr>\n",
                            "  </thead>\n",
                            "  <tbody>\n",
                            "    <tr>\n",
                            "      <th>My Rating</th>\n",
                            "      <td>1.000000</td>\n",
                            "    </tr>\n",
                            "    <tr>\n",
                            "      <th>Average Rating</th>\n",
                            "      <td>0.100958</td>\n",
                            "    </tr>\n",
                            "    <tr>\n",
                            "      <th>Number of Pages</th>\n",
                            "      <td>0.084042</td>\n",
                            "    </tr>\n",
                            "    <tr>\n",
                            "      <th>Year Published</th>\n",
                            "      <td>0.138556</td>\n",
                            "    </tr>\n",
                            "    <tr>\n",
                            "      <th>Original Publication Year</th>\n",
                            "      <td>0.092948</td>\n",
                            "    </tr>\n",
                            "    <tr>\n",
                            "      <th>Rating_Pages</th>\n",
                            "      <td>0.052498</td>\n",
                            "    </tr>\n",
                            "  </tbody>\n",
                            "</table>\n",
                            "</div>"
                        ]
                    },
                    "metadata": {},
                    "execution_count": 9
                }
            ],
            "metadata": {}
        },
        {
            "cell_type": "code",
            "execution_count": 10,
            "source": [
                "data1 = data1[['My Rating','Average Rating','Number of Pages','Year Published']].dropna()"
            ],
            "outputs": [],
            "metadata": {}
        },
        {
            "cell_type": "code",
            "execution_count": 11,
            "source": [
                "sns.boxplot('My Rating', 'Average Rating', data=data1)\r\n",
                "plt.title('My Rating vs Average Rating')\r\n",
                "plt.ylabel('Average Rating')"
            ],
            "outputs": [
                {
                    "output_type": "stream",
                    "name": "stderr",
                    "text": [
                        "C:\\Users\\Chaos\\anaconda3\\envs\\VSCode_env\\lib\\site-packages\\seaborn\\_decorators.py:43: FutureWarning: Pass the following variables as keyword args: x, y. From version 0.12, the only valid positional argument will be `data`, and passing other arguments without an explicit keyword will result in an error or misinterpretation.\n",
                        "  FutureWarning\n"
                    ]
                },
                {
                    "output_type": "execute_result",
                    "data": {
                        "text/plain": [
                            "Text(0, 0.5, 'Average Rating')"
                        ]
                    },
                    "metadata": {},
                    "execution_count": 11
                },
                {
                    "output_type": "display_data",
                    "data": {
                        "text/plain": [
                            "<Figure size 1440x360 with 1 Axes>"
                        ],
                        "image/png": "[encoded data removed]"
                    },
                    "metadata": {
                        "needs_background": "light"
                    }
                }
            ],
            "metadata": {}
        },
        {
            "cell_type": "code",
            "execution_count": 12,
            "source": [
                "from sklearn.model_selection import train_test_split\r\n",
                "from sklearn.preprocessing import StandardScaler\r\n",
                "from sklearn.naive_bayes import GaussianNB\r\n",
                "from sklearn import metrics"
            ],
            "outputs": [],
            "metadata": {}
        },
        {
            "cell_type": "code",
            "execution_count": 13,
            "source": [
                "x_train, x_test, y_train, y_test = train_test_split(data1[['My Rating','Average Rating','Number of Pages','Year Published']], data1['My Rating'], test_size=0.2, random_state=0)"
            ],
            "outputs": [],
            "metadata": {}
        },
        {
            "cell_type": "code",
            "execution_count": 14,
            "source": [
                "sc = StandardScaler()\r\n",
                "X_train = sc.fit_transform(x_train)\r\n",
                "X_test = sc.transform(x_test)"
            ],
            "outputs": [],
            "metadata": {}
        },
        {
            "cell_type": "code",
            "execution_count": 15,
            "source": [
                "model = GaussianNB()\r\n",
                "model.fit(X_train, y_train)"
            ],
            "outputs": [
                {
                    "output_type": "execute_result",
                    "data": {
                        "text/plain": [
                            "GaussianNB()"
                        ]
                    },
                    "metadata": {},
                    "execution_count": 15
                }
            ],
            "metadata": {}
        },
        {
            "cell_type": "code",
            "execution_count": 16,
            "source": [
                "predict_test = model.predict(X_test)\r\n",
                "print(metrics.accuracy_score(y_test, predict_test))"
            ],
            "outputs": [
                {
                    "output_type": "stream",
                    "name": "stdout",
                    "text": [
                        "1.0\n"
                    ]
                }
            ],
            "metadata": {}
        },
        {
            "cell_type": "code",
            "execution_count": 17,
            "source": [
                "from keras.models import Sequential\r\n",
                "from keras.layers import Dense\r\n",
                "\r\n",
                "model = Sequential()"
            ],
            "outputs": [],
            "metadata": {}
        },
        {
            "cell_type": "code",
            "execution_count": 18,
            "source": [
                "model.add(Dense(5, kernel_initializer = 'uniform', activation = 'relu', input_dim = 4))\r\n",
                "model.add(Dense(5, kernel_initializer = 'uniform', activation = 'relu'))\r\n",
                "model.add(Dense(1, kernel_initializer = 'uniform', activation = 'sigmoid'))"
            ],
            "outputs": [],
            "metadata": {}
        },
        {
            "cell_type": "code",
            "execution_count": 19,
            "source": [
                "model.summary()"
            ],
            "outputs": [
                {
                    "output_type": "stream",
                    "name": "stdout",
                    "text": [
                        "Model: \"sequential\"\n",
                        "_________________________________________________________________\n",
                        "Layer (type)                 Output Shape              Param #   \n",
                        "=================================================================\n",
                        "dense (Dense)                (None, 5)                 25        \n",
                        "_________________________________________________________________\n",
                        "dense_1 (Dense)              (None, 5)                 30        \n",
                        "_________________________________________________________________\n",
                        "dense_2 (Dense)              (None, 1)                 6         \n",
                        "=================================================================\n",
                        "Total params: 61\n",
                        "Trainable params: 61\n",
                        "Non-trainable params: 0\n",
                        "_________________________________________________________________\n"
                    ]
                }
            ],
            "metadata": {}
        },
        {
            "cell_type": "code",
            "execution_count": 20,
            "source": [
                "model.compile(optimizer=\"adam\", loss='binary_crossentropy', metrics=['accuracy'])\r\n",
                "model.fit(X_train, y_train, batch_size=32, epochs=50)"
            ],
            "outputs": [
                {
                    "output_type": "stream",
                    "name": "stdout",
                    "text": [
                        "Epoch 1/50\n",
                        "153/153 [==============================] - 0s 970us/step - loss: 0.5797 - accuracy: 0.0074\n",
                        "Epoch 2/50\n",
                        "153/153 [==============================] - 0s 714us/step - loss: -0.4244 - accuracy: 0.4389\n",
                        "Epoch 3/50\n",
                        "153/153 [==============================] - 0s 670us/step - loss: -3.5025 - accuracy: 0.6365\n",
                        "Epoch 4/50\n",
                        "153/153 [==============================] - 0s 649us/step - loss: -9.5706 - accuracy: 0.6380\n",
                        "Epoch 5/50\n",
                        "153/153 [==============================] - 0s 662us/step - loss: -19.8772 - accuracy: 0.6310\n",
                        "Epoch 6/50\n",
                        "153/153 [==============================] - 0s 592us/step - loss: -35.4478 - accuracy: 0.6216\n",
                        "Epoch 7/50\n",
                        "153/153 [==============================] - 0s 548us/step - loss: -57.1423 - accuracy: 0.6224\n",
                        "Epoch 8/50\n",
                        "153/153 [==============================] - 0s 600us/step - loss: -85.8499 - accuracy: 0.6189\n",
                        "Epoch 9/50\n",
                        "153/153 [==============================] - 0s 644us/step - loss: -121.8652 - accuracy: 0.6155\n",
                        "Epoch 10/50\n",
                        "153/153 [==============================] - 0s 670us/step - loss: -165.6313 - accuracy: 0.6132\n",
                        "Epoch 11/50\n",
                        "153/153 [==============================] - 0s 604us/step - loss: -217.5475 - accuracy: 0.6157\n",
                        "Epoch 12/50\n",
                        "153/153 [==============================] - 0s 574us/step - loss: -277.8975 - accuracy: 0.6126\n",
                        "Epoch 13/50\n",
                        "153/153 [==============================] - 0s 555us/step - loss: -347.1046 - accuracy: 0.6159\n",
                        "Epoch 14/50\n",
                        "153/153 [==============================] - 0s 555us/step - loss: -425.9353 - accuracy: 0.6155\n",
                        "Epoch 15/50\n",
                        "153/153 [==============================] - 0s 561us/step - loss: -514.1865 - accuracy: 0.6144\n",
                        "Epoch 16/50\n",
                        "153/153 [==============================] - 0s 600us/step - loss: -611.6615 - accuracy: 0.6161\n",
                        "Epoch 17/50\n",
                        "153/153 [==============================] - 0s 670us/step - loss: -718.7427 - accuracy: 0.6144\n",
                        "Epoch 18/50\n",
                        "153/153 [==============================] - 0s 593us/step - loss: -835.9656 - accuracy: 0.6157\n",
                        "Epoch 19/50\n",
                        "153/153 [==============================] - 0s 561us/step - loss: -963.4919 - accuracy: 0.6138\n",
                        "Epoch 20/50\n",
                        "153/153 [==============================] - 0s 631us/step - loss: -1101.6606 - accuracy: 0.6159\n",
                        "Epoch 21/50\n",
                        "153/153 [==============================] - 0s 970us/step - loss: -1250.5905 - accuracy: 0.6138\n",
                        "Epoch 22/50\n",
                        "153/153 [==============================] - 0s 2ms/step - loss: -1409.8469 - accuracy: 0.6148\n",
                        "Epoch 23/50\n",
                        "153/153 [==============================] - 0s 1ms/step - loss: -1580.0909 - accuracy: 0.6167\n",
                        "Epoch 24/50\n",
                        "153/153 [==============================] - 0s 655us/step - loss: -1761.2888 - accuracy: 0.6144\n",
                        "Epoch 25/50\n",
                        "153/153 [==============================] - 0s 555us/step - loss: -1953.7239 - accuracy: 0.6136\n",
                        "Epoch 26/50\n",
                        "153/153 [==============================] - 0s 549us/step - loss: -2157.6306 - accuracy: 0.6128\n",
                        "Epoch 27/50\n",
                        "153/153 [==============================] - 0s 606us/step - loss: -2373.6711 - accuracy: 0.6144\n",
                        "Epoch 28/50\n",
                        "153/153 [==============================] - 0s 593us/step - loss: -2600.9766 - accuracy: 0.6140\n",
                        "Epoch 29/50\n",
                        "153/153 [==============================] - 0s 612us/step - loss: -2840.5737 - accuracy: 0.6151\n",
                        "Epoch 30/50\n",
                        "153/153 [==============================] - 0s 535us/step - loss: -3092.0234 - accuracy: 0.6140\n",
                        "Epoch 31/50\n",
                        "153/153 [==============================] - 0s 561us/step - loss: -3356.3833 - accuracy: 0.6138\n",
                        "Epoch 32/50\n",
                        "153/153 [==============================] - 0s 542us/step - loss: -3632.2197 - accuracy: 0.6130\n",
                        "Epoch 33/50\n",
                        "153/153 [==============================] - 0s 586us/step - loss: -3920.3293 - accuracy: 0.6138\n",
                        "Epoch 34/50\n",
                        "153/153 [==============================] - 0s 593us/step - loss: -4221.5259 - accuracy: 0.6148\n",
                        "Epoch 35/50\n",
                        "153/153 [==============================] - 0s 555us/step - loss: -4535.1489 - accuracy: 0.6130\n",
                        "Epoch 36/50\n",
                        "153/153 [==============================] - 0s 599us/step - loss: -4862.1367 - accuracy: 0.6142\n",
                        "Epoch 37/50\n",
                        "153/153 [==============================] - 0s 549us/step - loss: -5202.7202 - accuracy: 0.6148\n",
                        "Epoch 38/50\n",
                        "153/153 [==============================] - 0s 561us/step - loss: -5557.8525 - accuracy: 0.6130\n",
                        "Epoch 39/50\n",
                        "153/153 [==============================] - 0s 548us/step - loss: -5925.3330 - accuracy: 0.6136\n",
                        "Epoch 40/50\n",
                        "153/153 [==============================] - 0s 657us/step - loss: -6307.0605 - accuracy: 0.6136\n",
                        "Epoch 41/50\n",
                        "153/153 [==============================] - 0s 561us/step - loss: -6703.1235 - accuracy: 0.6142\n",
                        "Epoch 42/50\n",
                        "153/153 [==============================] - 0s 573us/step - loss: -7113.6953 - accuracy: 0.6136\n",
                        "Epoch 43/50\n",
                        "153/153 [==============================] - 0s 561us/step - loss: -7538.4341 - accuracy: 0.6132\n",
                        "Epoch 44/50\n",
                        "153/153 [==============================] - 0s 555us/step - loss: -7976.9067 - accuracy: 0.6134\n",
                        "Epoch 45/50\n",
                        "153/153 [==============================] - 0s 1ms/step - loss: -8429.8516 - accuracy: 0.6128\n",
                        "Epoch 46/50\n",
                        "153/153 [==============================] - 0s 1ms/step - loss: -8896.8945 - accuracy: 0.6138\n",
                        "Epoch 47/50\n",
                        "153/153 [==============================] - 0s 906us/step - loss: -9378.7793 - accuracy: 0.6138\n",
                        "Epoch 48/50\n",
                        "153/153 [==============================] - 0s 638us/step - loss: -9876.2041 - accuracy: 0.6134\n",
                        "Epoch 49/50\n",
                        "153/153 [==============================] - 0s 625us/step - loss: -10387.9004 - accuracy: 0.6136\n",
                        "Epoch 50/50\n",
                        "153/153 [==============================] - 0s 555us/step - loss: -10915.9678 - accuracy: 0.6134\n"
                    ]
                },
                {
                    "output_type": "execute_result",
                    "data": {
                        "text/plain": [
                            "<tensorflow.python.keras.callbacks.History at 0x16a3f62d1c8>"
                        ]
                    },
                    "metadata": {},
                    "execution_count": 20
                }
            ],
            "metadata": {}
        },
        {
            "cell_type": "code",
            "execution_count": 21,
            "source": [
                "y_pred = model.predict_classes(X_test)\r\n",
                "print(metrics.accuracy_score(y_test, y_pred))"
            ],
            "outputs": [
                {
                    "output_type": "stream",
                    "name": "stdout",
                    "text": [
                        "WARNING:tensorflow:From <ipython-input-21-f2b60f32baf2>:1: Sequential.predict_classes (from tensorflow.python.keras.engine.sequential) is deprecated and will be removed after 2021-01-01.\n",
                        "Instructions for updating:\n",
                        "Please use instead:* `np.argmax(model.predict(x), axis=-1)`,   if your model does multi-class classification   (e.g. if it uses a `softmax` last-layer activation).* `(model.predict(x) > 0.5).astype(\"int32\")`,   if your model does binary classification   (e.g. if it uses a `sigmoid` last-layer activation).\n",
                        "0.6124284546197875\n"
                    ]
                }
            ],
            "metadata": {}
        },
        {
            "cell_type": "code",
            "execution_count": null,
            "source": [],
            "outputs": [],
            "metadata": {}
        }
    ],
    "metadata": {
        "orig_nbformat": 4,
        "language_info": {
            "name": "python",
            "version": "3.7.11",
            "mimetype": "text/x-python",
            "codemirror_mode": {
                "name": "ipython",
                "version": 3
            },
            "pygments_lexer": "ipython3",
            "nbconvert_exporter": "python",
            "file_extension": ".py"
        },
        "kernelspec": {
            "name": "python3",
            "display_name": "Python 3.7.11 64-bit ('VSCode_env': conda)"
        },
        "interpreter": {
            "hash": "d2885c27dfbe0f06ff7cacf21236608869eeb9871d66bb9e308c95c2f47a444c"
        }
    },
    "nbformat": 4,
    "nbformat_minor": 2
}